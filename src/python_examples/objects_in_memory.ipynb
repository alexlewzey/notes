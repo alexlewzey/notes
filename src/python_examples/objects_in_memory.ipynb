{
 "cells": [
  {
   "cell_type": "code",
   "execution_count": 3,
   "metadata": {},
   "outputs": [
    {
     "name": "stdout",
     "output_type": "stream",
     "text": [
      "dfs\n",
      "True 4547942528 4547942528\n",
      "False 4547942528 5133320144\n",
      "\n",
      "lists\n",
      "False 5206136000 4548062208\n",
      "\n",
      "ints\n",
      "True 4482337200 4482337200\n",
      "\n",
      "tuples\n",
      "False 5206007552 5206044288\n"
     ]
    }
   ],
   "source": [
    "import pandas as pd\n",
    "from ipywidgets import *\n",
    "from fastcore.test import *\n",
    "\n",
    "\n",
    "def compare_ids(a, b):\n",
    "    print(id(a) == id(b), id(a), id(b))\n",
    "\n",
    "\n",
    "df = pd.Series(range(10)).to_frame(\"n\")\n",
    "\n",
    "df_ref = df\n",
    "df_copy = df.copy()\n",
    "print(\"dfs\")\n",
    "compare_ids(df, df_ref)\n",
    "compare_ids(df, df_copy)\n",
    "print()\n",
    "\n",
    "print(\"lists\")\n",
    "a = [\"a\", \"b\", \"c\"]\n",
    "b = [\"a\", \"b\", \"c\"]\n",
    "compare_ids(a, b)\n",
    "print()\n",
    "\n",
    "print(\"ints\")\n",
    "a = 5\n",
    "b = 5\n",
    "compare_ids(a, b)\n",
    "print()\n",
    "\n",
    "print(\"tuples\")\n",
    "a = (\"a\", \"b\", \"c\")\n",
    "b = (\"a\", \"b\", \"c\")\n",
    "compare_ids(a, b)"
   ]
  },
  {
   "cell_type": "code",
   "execution_count": 5,
   "metadata": {},
   "outputs": [],
   "source": [
    "\n",
    "a, b = [widgets.FloatSlider(min=-3, max=3, value=0, step=0.05)] * 2\n",
    "test_eq(id(a), id(b))\n",
    "a, b = [widgets.FloatSlider(min=-3, max=3, value=0, step=0.05) for _ in range(2)]\n",
    "test_ne(id(a), id(b))"
   ]
  }
 ],
 "metadata": {
  "kernelspec": {
   "display_name": "base",
   "language": "python",
   "name": "python3"
  },
  "language_info": {
   "codemirror_mode": {
    "name": "ipython",
    "version": 3
   },
   "file_extension": ".py",
   "mimetype": "text/x-python",
   "name": "python",
   "nbconvert_exporter": "python",
   "pygments_lexer": "ipython3",
   "version": "3.9.10"
  },
  "orig_nbformat": 4
 },
 "nbformat": 4,
 "nbformat_minor": 2
}
